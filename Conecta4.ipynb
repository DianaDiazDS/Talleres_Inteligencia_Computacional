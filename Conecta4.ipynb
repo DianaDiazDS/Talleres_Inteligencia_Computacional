{
 "cells": [
  {
   "cell_type": "code",
   "execution_count": null,
   "id": "133ea2ed3562575b",
   "metadata": {
    "collapsed": true
   },
   "outputs": [],
   "source": [
    "import numpy as np"
   ]
  },
  {
   "cell_type": "markdown",
   "source": [
    "Esta función crea un tablero vacío representado como una matriz de ceros usando la biblioteca NumPy, con dimensiones especificadas por el número de filas y columnas."
   ],
   "metadata": {
    "collapsed": false
   },
   "id": "acad2ac8501e0632"
  },
  {
   "cell_type": "code",
   "execution_count": null,
   "outputs": [],
   "source": [
    "\n",
    "def inicializar_tablero(filas, columnas):\n",
    "    return np.zeros((filas, columnas), dtype=int)"
   ],
   "metadata": {
    "collapsed": false
   },
   "id": "89613ef4778d8af2"
  },
  {
   "cell_type": "markdown",
   "source": [
    "Esta función imprime el estado actual del tablero en la consola. Asigna 'X' para el jugador 1, 'O' para el jugador -1 y '.' para celdas vacías. Además, muestra números de columna y una línea separadora."
   ],
   "metadata": {
    "collapsed": false
   },
   "id": "ec7012fc979b02ae"
  },
  {
   "cell_type": "code",
   "execution_count": null,
   "outputs": [],
   "source": [
    "\n",
    "def imprimir_tablero(tablero):\n",
    "    # Imprimir los números de las columnas\n",
    "    print(\" \".join(str(i) for i in range(len(tablero[0]))))\n",
    "    print(\"-\" * (2 * len(tablero[0]) - 1))  # Línea separadora\n",
    "\n",
    "    for fila in tablero:\n",
    "        print(' '.join(['X' if celda == 1 else 'O'\n",
    "        if celda == -1 else '.' for celda in fila]))"
   ],
   "metadata": {
    "collapsed": false
   },
   "id": "d70ec99295ee2624"
  },
  {
   "cell_type": "markdown",
   "source": [
    "Verifica si un movimiento en la columna especificada es válido, es decir, si la celda en la fila superior de esa columna está vacía."
   ],
   "metadata": {
    "collapsed": false
   },
   "id": "fc16d4acf51263c7"
  },
  {
   "cell_type": "code",
   "execution_count": null,
   "outputs": [],
   "source": [
    "\n",
    "def es_movimiento_valido(tablero, columna):\n",
    "    return tablero[0][columna] == 0"
   ],
   "metadata": {
    "collapsed": false
   },
   "id": "bc461cb637ecf434"
  },
  {
   "cell_type": "markdown",
   "source": [
    " Coloca la ficha del jugador en la columna especificada del tablero, desde la fila inferior hacia arriba."
   ],
   "metadata": {
    "collapsed": false
   },
   "id": "a08b7d3f97237493"
  },
  {
   "cell_type": "code",
   "execution_count": null,
   "outputs": [],
   "source": [
    "\n",
    "def realizar_movimiento(tablero, columna, jugador):\n",
    "    for fila in range(len(tablero) - 1, -1, -1):\n",
    "        if tablero[fila][columna] == 0:\n",
    "            tablero[fila][columna] = jugador\n",
    "            break\n",
    "    return tablero"
   ],
   "metadata": {
    "collapsed": false
   },
   "id": "32d68a70cd446e30"
  },
  {
   "cell_type": "markdown",
   "source": [
    "Devuelve una lista de columnas donde es posible realizar un movimiento válido."
   ],
   "metadata": {
    "collapsed": false
   },
   "id": "a23d73e5f47908b8"
  },
  {
   "cell_type": "code",
   "execution_count": null,
   "outputs": [],
   "source": [
    "\n",
    "def obtener_movimientos(tablero):\n",
    "    return [col for col in range(len(tablero[0]))\n",
    "            if es_movimiento_valido(tablero, col)]"
   ],
   "metadata": {
    "collapsed": false
   },
   "id": "810ed50fa5677bdd"
  },
  {
   "cell_type": "markdown",
   "source": [
    "Calcula la puntuación del estado actual del tablero para el jugador dado. Resta el número de fichas del oponente del número de fichas del jugador."
   ],
   "metadata": {
    "collapsed": false
   },
   "id": "16ec78dd4191ae4e"
  },
  {
   "cell_type": "code",
   "execution_count": null,
   "outputs": [],
   "source": [
    "\n",
    "def evaluar_estado(tablero, jugador):\n",
    "    return (np.sum(tablero == jugador) -\n",
    "            np.sum(tablero == -jugador))"
   ],
   "metadata": {
    "collapsed": false
   },
   "id": "64e0f76171a6ccd"
  },
  {
   "cell_type": "markdown",
   "source": [
    "Determina si el juego ha llegado a un estado terminal, ya sea por una victoria de un jugador (cuatro fichas consecutivas en filas, columnas o diagonales) o un empate (tablero lleno)."
   ],
   "metadata": {
    "collapsed": false
   },
   "id": "12fe7ddb43855aba"
  },
  {
   "cell_type": "code",
   "execution_count": null,
   "outputs": [],
   "source": [
    "\n",
    "def es_terminal(tablero):\n",
    "    # Verifica si hay cuatro fichas consecutivas en filas, columnas o diagonales.\n",
    "    for jugador in [-1, 1]:  # Verifica para ambos jugadores\n",
    "        # Verifica filas\n",
    "        for fila in range(len(tablero) - 3):\n",
    "            for col in range(len(tablero[0])):\n",
    "                if np.all(tablero[fila:fila+4, col] == jugador):\n",
    "                    print(f\"¡Victoria para el jugador {jugador} en fila!\")\n",
    "                    return True\n",
    "\n",
    "        # Verifica columnas\n",
    "        for col in range(len(tablero[0]) - 3):\n",
    "            for fila in range(len(tablero)):\n",
    "                if np.all(tablero[fila, col:col+4] == jugador):\n",
    "                    print(f\"¡Victoria para el jugador {jugador} en columna!\")\n",
    "                    return True\n",
    "\n",
    "        # Verifica diagonal inferior izquierda a superior derecha\n",
    "        for fila in range(len(tablero) - 3):\n",
    "            for col in range(len(tablero[0]) - 3):\n",
    "                if np.all(np.diag(tablero[fila:fila+4, col:col+4]) == jugador):\n",
    "                    print(f\"¡Victoria para el jugador {jugador} en diagonal inferior\"\n",
    "                          f\" izquierda a superior derecha!\")\n",
    "                    return True\n",
    "\n",
    "        # Verifica diagonal superior izquierda a inferior derecha\n",
    "        for fila in range(3, len(tablero)):\n",
    "            for col in range(len(tablero[0]) - 3):\n",
    "                if np.all(np.diag(tablero[fila-3:fila+1, col:col+4][::-1]) == jugador):\n",
    "                    print(f\"¡Victoria para el jugador {jugador} en diagonal superior izquierda a inferior derecha!\")\n",
    "                    return True\n",
    "\n",
    "    # Verifica si el tablero está lleno de fichas (empate)\n",
    "    # if np.all(tablero != 0):\n",
    "    #     return True\n",
    "\n",
    "    return False"
   ],
   "metadata": {
    "collapsed": false
   },
   "id": "812eb5e40239cc19"
  },
  {
   "cell_type": "markdown",
   "source": [
    "mplementa el algoritmo minimax con poda alfa-beta para determinar el mejor movimiento en función del estado actual del tablero."
   ],
   "metadata": {
    "collapsed": false
   },
   "id": "c3f58cecaea42646"
  },
  {
   "cell_type": "code",
   "execution_count": null,
   "outputs": [],
   "source": [
    "\n",
    "def minimax(tablero, profundidad, alfa, beta, maximizando_jugador):\n",
    "    if profundidad == 0 or es_terminal(tablero):\n",
    "        return evaluar_estado(tablero, 1)\n",
    "\n",
    "    posibles_movimientos = obtener_movimientos(tablero)\n",
    "\n",
    "    if maximizando_jugador:\n",
    "        max_eval = float('-inf')\n",
    "        for movimiento in posibles_movimientos:\n",
    "            nuevo_tablero = np.copy(tablero)\n",
    "            nuevo_tablero = realizar_movimiento(nuevo_tablero, movimiento, 1)\n",
    "            eval = minimax(nuevo_tablero, profundidad - 1, alfa, beta, False)\n",
    "            max_eval = max(max_eval, eval)\n",
    "            alfa = max(alfa, eval)\n",
    "            if beta <= alfa:\n",
    "                break\n",
    "        return max_eval\n",
    "    else:\n",
    "        min_eval = float('inf')\n",
    "        for movimiento in posibles_movimientos:\n",
    "            nuevo_tablero = np.copy(tablero)\n",
    "            nuevo_tablero = realizar_movimiento(nuevo_tablero, movimiento, -1)\n",
    "            eval = minimax(nuevo_tablero, profundidad - 1, alfa, beta, True)\n",
    "            min_eval = min(min_eval, eval)\n",
    "            beta = min(beta, eval)\n",
    "            if beta <= alfa:\n",
    "                break\n",
    "        return min_eval"
   ],
   "metadata": {
    "collapsed": false
   },
   "id": "81601550e0ce6f03"
  },
  {
   "cell_type": "markdown",
   "source": [
    "Encuentra y devuelve el mejor movimiento para la computadora utilizando el algoritmo minimax con poda alfa-beta."
   ],
   "metadata": {
    "collapsed": false
   },
   "id": "4bc22ffbd1b7b3e4"
  },
  {
   "cell_type": "code",
   "execution_count": null,
   "outputs": [],
   "source": [
    "\n",
    "def encontrar_mejor_movimiento(tablero, profundidad):\n",
    "    posibles_movimientos = obtener_movimientos(tablero)\n",
    "    mejor_eval = float('-inf')\n",
    "    mejor_movimiento = None\n",
    "    alfa = float('-inf')\n",
    "    beta = float('inf')\n",
    "\n",
    "    for movimiento in posibles_movimientos:\n",
    "        nuevo_tablero = np.copy(tablero)\n",
    "        nuevo_tablero = realizar_movimiento(nuevo_tablero, movimiento, 1)\n",
    "        eval = minimax(nuevo_tablero, profundidad - 1, alfa, beta, False)\n",
    "\n",
    "        if eval > mejor_eval:\n",
    "            mejor_eval = eval\n",
    "            mejor_movimiento = movimiento\n",
    "\n",
    "        alfa = max(alfa, eval)\n",
    "\n",
    "    return mejor_movimiento"
   ],
   "metadata": {
    "collapsed": false
   },
   "id": "ef936d78a7a8aee6"
  },
  {
   "cell_type": "markdown",
   "source": [
    "Función principal para permitir a un jugador humano jugar contra la computadora. Maneja los turnos, movimientos y determina el resultado del juego."
   ],
   "metadata": {
    "collapsed": false
   },
   "id": "2d8ad8862e2aaaf2"
  },
  {
   "cell_type": "code",
   "execution_count": null,
   "outputs": [],
   "source": [
    "\n",
    "def jugar_contra_pc():\n",
    "    filas, columnas = 6, 7\n",
    "    tablero = inicializar_tablero(filas, columnas)\n",
    "\n",
    "    while not es_terminal(tablero):\n",
    "        imprimir_tablero(tablero)\n",
    "        columna_usuario = int(input(\"Ingresa tu movimiento (columna del 0 al 6): \"))\n",
    "        if es_movimiento_valido(tablero, columna_usuario):\n",
    "            tablero = realizar_movimiento(tablero, columna_usuario, -1)\n",
    "        else:\n",
    "            print(\"Movimiento no válido. Inténtalo de nuevo.\")\n",
    "            continue\n",
    "\n",
    "        if es_terminal(tablero):\n",
    "            break\n",
    "\n",
    "        imprimir_tablero(tablero)\n",
    "        print(\"Turno de la computadora...\")\n",
    "        columna_pc = encontrar_mejor_movimiento(tablero, profundidad=3)\n",
    "        print(f\"La computadora juega en la columna {columna_pc}\")\n",
    "        tablero = realizar_movimiento(tablero, columna_pc, 1)\n",
    "\n",
    "    imprimir_tablero(tablero)\n",
    "    ganador = evaluar_estado(tablero, 1)\n",
    "    if ganador > 0:\n",
    "        print(\"¡Ganaste!\")\n",
    "    elif ganador < 0:\n",
    "        print(\"¡La computadora gana!\")\n",
    "    else:\n",
    "        print(\"¡Empate!\")\n",
    "\n",
    "# Juega contra la computadora.\n",
    "jugar_contra_pc()\n"
   ],
   "metadata": {
    "collapsed": false,
    "is_executing": true
   },
   "id": "initial_id"
  },
  {
   "cell_type": "code",
   "execution_count": null,
   "outputs": [],
   "source": [],
   "metadata": {
    "collapsed": false
   },
   "id": "c01bd1df4efa1abf"
  }
 ],
 "metadata": {
  "kernelspec": {
   "display_name": "Python 3",
   "language": "python",
   "name": "python3"
  },
  "language_info": {
   "codemirror_mode": {
    "name": "ipython",
    "version": 2
   },
   "file_extension": ".py",
   "mimetype": "text/x-python",
   "name": "python",
   "nbconvert_exporter": "python",
   "pygments_lexer": "ipython2",
   "version": "2.7.6"
  }
 },
 "nbformat": 4,
 "nbformat_minor": 5
}
